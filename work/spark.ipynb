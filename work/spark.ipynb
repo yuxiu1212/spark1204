{
 "cells": [
  {
   "cell_type": "code",
   "execution_count": 1,
   "id": "1ea78933-4934-407d-a38a-32d30322d8dd",
   "metadata": {},
   "outputs": [
    {
     "name": "stdout",
     "output_type": "stream",
     "text": [
      "('M299296037', 83)\n",
      "('Y231312017', 57)\n",
      "('V172730836', 50)\n",
      "('R113710856', 30)\n",
      "('H193255855', 22)\n",
      "('I143881581', 12)\n"
     ]
    }
   ],
   "source": [
    "# 同一個人可能造訪多次，依照總停留秒數從高到低排序這些人。\n",
    "from pyspark import SparkContext\n",
    "\n",
    "logFile = \"test.txt\"  # Should be some file on your system\n",
    "sc = SparkContext(\"local\", \"Simple App\")\n",
    "logData = sc.textFile(logFile).cache()\n",
    "numBs = (\n",
    "    logData.flatMap(lambda l: l.split(\"|\"))\n",
    "        .map(lambda l: l.split(\",\"))\n",
    "        .map(lambda x: (x[0], int(x[1])))                # 轉換秒數為整數\n",
    "        .filter(lambda x: x[1] >= 0)                     # 只取正數\n",
    "        .reduceByKey(lambda a, b: a + b)                 # 總秒數\n",
    "        .sortBy(lambda x: x[1], ascending=False)         # 排序高到低\n",
    "        .collect()\n",
    ")\n",
    "for i in numBs:\n",
    "    print(i)"
   ]
  },
  {
   "cell_type": "code",
   "execution_count": 1,
   "id": "e60d52fb-4cbd-4be2-afb2-b2308f5fcf6b",
   "metadata": {},
   "outputs": [
    {
     "name": "stdout",
     "output_type": "stream",
     "text": [
      "('R113710856', 5.0)\n",
      "('Y231312017', 9.5)\n",
      "('M299296037', 10.375)\n",
      "('I143881581', 12.0)\n",
      "('V172730836', 12.5)\n",
      "('H193255855', 22.0)\n"
     ]
    }
   ],
   "source": [
    "# 請嘗試以平均停留秒數從低到高排序這些人。\n",
    "from pyspark import SparkContext\n",
    "\n",
    "logFile = \"test.txt\"  # Should be some file on your system\n",
    "sc = SparkContext(\"local\", \"Simple App\")\n",
    "logData = sc.textFile(logFile).cache()\n",
    "numBs = (\n",
    "    logData.flatMap(lambda l: l.split(\"|\"))\n",
    "        .map(lambda l: l.split(\",\"))\n",
    "        .map(lambda x: (x[0], int(x[1])))                # 轉換秒數為整數\n",
    "        .filter(lambda x: x[1] >= 0)                     # 只取正數\n",
    "        .mapValues(lambda v: (v, 1))                    # 次數(ID，(秒數，1次))\n",
    "        .reduceByKey(lambda a, b: (a[0] + b[0], a[1] + b[1]))  # 總秒數和總次數\n",
    "        .mapValues(lambda v: v[0] / v[1])               # 計算平均\n",
    "        .sortBy(lambda x: x[1], ascending=True)         # 排序低到高\n",
    "        .collect()\n",
    ")\n",
    "for i in numBs:\n",
    "    print(i)"
   ]
  }
 ],
 "metadata": {
  "kernelspec": {
   "display_name": "Python 3 (ipykernel)",
   "language": "python",
   "name": "python3"
  },
  "language_info": {
   "codemirror_mode": {
    "name": "ipython",
    "version": 3
   },
   "file_extension": ".py",
   "mimetype": "text/x-python",
   "name": "python",
   "nbconvert_exporter": "python",
   "pygments_lexer": "ipython3",
   "version": "3.11.6"
  }
 },
 "nbformat": 4,
 "nbformat_minor": 5
}
